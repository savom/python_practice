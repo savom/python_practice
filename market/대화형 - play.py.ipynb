{
 "cells": [
  {
   "cell_type": "code",
   "execution_count": null,
   "id": "8be818a0-7258-4223-8bc0-56934276d78d",
   "metadata": {},
   "outputs": [
    {
     "ename": "NameError",
     "evalue": "name 'page' is not defined",
     "output_type": "error",
     "traceback": [
      "\u001b[31m---------------------------------------------------------------------------\u001b[39m",
      "\u001b[31mNameError\u001b[39m                                 Traceback (most recent call last)",
      "\u001b[36mCell\u001b[39m\u001b[36m \u001b[39m\u001b[32mIn[10]\u001b[39m\u001b[32m, line 1\u001b[39m\n\u001b[32m----> \u001b[39m\u001b[32m1\u001b[39m \u001b[38;5;28mprint\u001b[39m(\u001b[43mpage\u001b[49m.locator(\u001b[33m\"\u001b[39m\u001b[33mtable\u001b[39m\u001b[33m\"\u001b[39m, has_text=\u001b[33m\"\u001b[39m\u001b[33m코스피\u001b[39m\u001b[33m\"\u001b[39m).locator(\u001b[33m\"\u001b[39m\u001b[33mthead > tr > th\u001b[39m\u001b[33m\"\u001b[39m).all_inner_texts())\n",
      "\u001b[31mNameError\u001b[39m: name 'page' is not defined"
     ]
    }
   ],
   "source": [
    "print(page.locator(\"table\", has_text=\"코스피\").locator(\"thead > tr > th\").all_inner_texts())"
   ]
  },
  {
   "cell_type": "code",
   "execution_count": null,
   "id": "8b8b2b85-1774-4350-b9e4-10f0f7ae6d80",
   "metadata": {},
   "outputs": [
    {
     "ename": "NameError",
     "evalue": "name 'page' is not defined",
     "output_type": "error",
     "traceback": [
      "\u001b[31m---------------------------------------------------------------------------\u001b[39m",
      "\u001b[31mNameError\u001b[39m                                 Traceback (most recent call last)",
      "\u001b[36mCell\u001b[39m\u001b[36m \u001b[39m\u001b[32mIn[11]\u001b[39m\u001b[32m, line 1\u001b[39m\n\u001b[32m----> \u001b[39m\u001b[32m1\u001b[39m \u001b[43mpage\u001b[49m.pause()\n",
      "\u001b[31mNameError\u001b[39m: name 'page' is not defined"
     ]
    }
   ],
   "source": [
    "page.pause()"
   ]
  }
 ],
 "metadata": {
  "kernelspec": {
   "display_name": "Python 3",
   "language": "python",
   "name": "python3"
  },
  "language_info": {
   "name": "python",
   "version": "3.11.9"
  }
 },
 "nbformat": 4,
 "nbformat_minor": 5
}
